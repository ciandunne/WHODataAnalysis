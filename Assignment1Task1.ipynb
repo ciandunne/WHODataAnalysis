{
 "cells": [
  {
   "cell_type": "markdown",
   "metadata": {},
   "source": [
    "# Using WHO Europe API to compare a few different countries health stats\n",
    "\n",
    "Notebook 1: Collection of data"
   ]
  },
  {
   "cell_type": "code",
   "execution_count": 16,
   "metadata": {},
   "outputs": [],
   "source": [
    "import json, requests, urllib\n",
    "from pathlib import Path\n",
    "import pandas as pd\n",
    "import matplotlib\n",
    "import matplotlib.pyplot as plt\n",
    "%matplotlib inline"
   ]
  },
  {
   "cell_type": "markdown",
   "metadata": {},
   "source": [
    "Countries: Ireland, France, Estonia, Poland.\n",
    "\n",
    "Declaring important data:"
   ]
  },
  {
   "cell_type": "code",
   "execution_count": 17,
   "metadata": {},
   "outputs": [],
   "source": [
    "# Prefix for API URLs\n",
    "api_prefix = \"http://dw.euro.who.int/api/v3\"\n",
    "# The countries that we would like to study\n",
    "country_names = [\"Ireland\", \"France\", \"Czechia\", \"Poland\"]\n",
    "\n",
    "# creating a raw directory in case it doesnt already exist\n",
    "dir_raw = Path(\"raw\")\n",
    "dir_raw.mkdir(parents=True, exist_ok=True)"
   ]
  },
  {
   "cell_type": "markdown",
   "metadata": {},
   "source": [
    "## Data Collection\n",
    "\n",
    "Convenience function"
   ]
  },
  {
   "cell_type": "code",
   "execution_count": 18,
   "metadata": {},
   "outputs": [],
   "source": [
    "def fetch(endpoint):\n",
    "    # construct the url\n",
    "    url = api_prefix\n",
    "    if not endpoint.startswith(\"/\"):\n",
    "        url += \"/\"\n",
    "    url += endpoint\n",
    "    (api_prefix, endpoint)\n",
    "    url\n",
    "    print(\"Fetching %s\" % url)\n",
    "    # fetch the page\n",
    "    response = requests.get(url)\n",
    "    jdata = response.text\n",
    "    return json.loads(jdata)"
   ]
  },
  {
   "cell_type": "markdown",
   "metadata": {},
   "source": [
    "Find the country keys that WHO uses to request the data from the API"
   ]
  },
  {
   "cell_type": "code",
   "execution_count": 19,
   "metadata": {},
   "outputs": [
    {
     "name": "stdout",
     "output_type": "stream",
     "text": [
      "Fetching http://dw.euro.who.int/api/v3/countries\n",
      "Found match for Ireland: code=IRL short_name=Ireland\n",
      "Found match for France: code=FRA short_name=France\n",
      "Found match for Czechia: code=CZE short_name=Czechia\n",
      "Found match for Poland: code=POL short_name=Poland\n"
     ]
    }
   ],
   "source": [
    "country_ids = {}\n",
    "country_data = fetch(\"countries\")\n",
    "\n",
    "for country_name in country_names:\n",
    "    # iterates through each countries info\n",
    "    for item in country_data :\n",
    "         #if the countries name is one of my chosen ones than add the code to the dictionary\n",
    "        if item[\"short_name\"] == country_name :\n",
    "            country_ids[country_name] = item[\"code\"]\n",
    "            print(\"Found match for %s: code=%s short_name=%s\" % \n",
    "                  (country_name, item[\"code\"], item[\"short_name\"]))"
   ]
  },
  {
   "cell_type": "markdown",
   "metadata": {},
   "source": [
    "Finding which items I want to get and compare\n",
    "\n",
    "This API only lets you get one piece of information at a time and you need all the id codes of the pieces that you want to get the info"
   ]
  },
  {
   "cell_type": "code",
   "execution_count": 20,
   "metadata": {},
   "outputs": [
    {
     "name": "stdout",
     "output_type": "stream",
     "text": [
      "Fetching http://dw.euro.who.int/api/v3/measures/\n"
     ]
    }
   ],
   "source": [
    "instance_data = fetch(\"measures/\")"
   ]
  },
  {
   "cell_type": "markdown",
   "metadata": {},
   "source": [
    "Creating a dictionary of all the measures codes and names"
   ]
  },
  {
   "cell_type": "code",
   "execution_count": 21,
   "metadata": {},
   "outputs": [],
   "source": [
    "dict_codes = {}\n",
    "for measure in instance_data :\n",
    "    dict_codes[measure[\"code\"]] = measure[\"short_name\"]"
   ]
  },
  {
   "cell_type": "markdown",
   "metadata": {},
   "source": [
    "Searching in this measures dictionary for a few key words that I want to analyse"
   ]
  },
  {
   "cell_type": "code",
   "execution_count": 22,
   "metadata": {},
   "outputs": [
    {
     "name": "stdout",
     "output_type": "stream",
     "text": [
      "HFA_1: Mid-year population\n",
      "HFA_2: Mid-year male population\n",
      "HFA_3: Mid-year female population\n",
      "HFA_10: % of population aged 0–14 years\n",
      "HFA_11: % of population aged 0–14 years, males\n",
      "HFA_12: % of population aged 0–14 years, females\n",
      "HFA_13: % of population aged 65+ years\n",
      "HFA_14: % of population aged 65+ years, males\n",
      "HFA_15: % of population aged 65+ years, females\n",
      "HFA_16: Live births per 1000 population\n",
      "HFA_17: Live births per 1000 population, males\n",
      "HFA_18: Live births per 1000 population, females\n",
      "HFA_22: Crude death rate per 1000 population\n",
      "HFA_23: Crude death rate per 1000 population, males\n",
      "HFA_24: Crude death rate per 1000 population, females\n",
      "HFA_26: % of urban population\n",
      "HFA_27: Average population density per km2\n",
      "HFA_30: Labour force as % of population\n",
      "HFA_36: Literacy rate (%) in population aged 15+ years\n",
      "HFA_37: Literacy rate (%) in male population aged 15+ years\n",
      "HFA_38: Literacy rate (%) in female population aged 15+ years\n",
      "HFA_39: % of population with postsecondary education aged 25+ years\n",
      "HFA_40: % of population with primary education only aged 25+ years\n",
      "HFA_41: % of population with secondary education only aged 25+ years\n",
      "HFA_417: % population self-assessing health as good\n",
      "HFA_418: % population self-assessing health as good, males\n",
      "HFA_419: % population self-assessing health as good, females\n",
      "HFA_421: % of regular daily smokers in the population, age 15+\n",
      "HFA_422: % of regular daily smokers in the population, age 15+, males\n",
      "HFA_423: % of regular daily smokers in the population, age 15+, females\n",
      "HFA_463: % population with homes connected to water supply system\n",
      "HFA_464: % population with homes connected to water supply system, urban\n",
      "HFA_465: % population with homes connected to water supply system, rural\n",
      "HFA_466: % population with access to sewage system, septic tank or other hygienic means of sewage disposal\n",
      "HFA_467: % population with access to sewage system, septic tank or other hygienic means of sewage disposal, urban\n",
      "HFA_468: % population with access to sewage system, septic tank or other hygienic means of sewage disposal, rural\n",
      "HLTHRES_174: Population used as denominator, both sexes\n",
      "HEPA_SURVEY_23: Surveillance or health monitoring systems that include population-based measures of physical activity \n",
      "CAH_3: Immigrant population\n",
      "CAH_15: Generalist medical practitioners, per 100 000 population\n",
      "CAH_16: General paediatricians, per 100 000 population\n",
      "CAH_17: Practicing nurses, per 100 000 population\n",
      "CAH_65: Population aged 0–14 years\n",
      "HFAMDB_832: Mid-year population, age 0 years\n",
      "HFAMDB_833: Mid-year population, age 10-14 years\n",
      "HFAMDB_834: Mid-year population, age 1-4 years\n",
      "HFAMDB_835: Mid-year population, age 15-19 years\n",
      "HFAMDB_836: Mid-year population, age 20-24 years\n",
      "HFAMDB_837: Mid-year population, age 25-29 years\n",
      "HFAMDB_838: Mid-year population, age 30-34 years\n",
      "HFAMDB_839: Mid-year population, age 35-39 years\n",
      "HFAMDB_840: Mid-year population, age 40-44 years\n",
      "HFAMDB_841: Mid-year population, age 45-49 years\n",
      "HFAMDB_842: Mid-year population, age 50-54 years\n",
      "HFAMDB_843: Mid-year population, age 55-59 years\n",
      "HFAMDB_844: Mid-year population, age 5-9 years\n",
      "HFAMDB_845: Mid-year population, age 60-64 years\n",
      "HFAMDB_846: Mid-year population, age 65-69 years\n",
      "HFAMDB_847: Mid-year population, age 70-74 years\n",
      "HFAMDB_848: Mid-year population, age 75-79 years\n",
      "HFAMDB_849: Mid-year population, age 80-84 years\n",
      "HFAMDB_850: Mid-year population, age 85+ years\n",
      "ENHIS_3: Population with house connections to piped water\n",
      "ENHIS_4: Population connected to wastewater treatment facilities\n",
      "ENHIS_5: Population with home connection to improved sanitation facilities\n",
      "ENHIS_24: Population weighted annual mean PM10 in cities\n",
      "ENHIS_26: Population weighted annual mean PM2.5 in cities\n",
      "ENHIS_31: Proportion of the total population living in homes with self-reported problems of damp\n",
      "ENHIS_32: Proportion of population in relative poverty living in homes with self-reported problems of damp\n",
      "ENHIS_37: Population weighted annual mean SOMO35 in cities\n",
      "ENHIS_44: Mean level of selected hazardous metals in the total diet of the general population of the Czech Republic\n",
      "ENHIS_52: Percentage of urban population exposed to noise level Lden > 55 dB\n",
      "ENHIS_53: Percentage of urban population exposed to noise level Lnight > 50 dB\n",
      "ENHIS_54: Percentage of population reporting that noise is a problem in the living environment\n",
      "CAHB_SURVEY_37: Rate of children treated for ADHD per 100 000 population aged 0-17 years\n",
      "CAHB_SURVEY_38: Rate of children treated for Autism per 100 000 population aged 0-17 years\n",
      "CAHB_SURVEY_39: Rate of practicing child psychiatrist per 100 000 population aged 0-14 years\n",
      "CAHB_SURVEY_40: Rate of practicing child psychologist per 100 000 population aged 0-14 years\n",
      "CAHB_SURVEY_55: Rate of children in institutional care per 10 000 population aged 0-17\n",
      "CAHB_SURVEY_56: Rate of children in institutional care per 10 000 population aged 0-2\n",
      "CAHB_SURVEY_58: Frequency of population-based survey on child maltreatment\n"
     ]
    }
   ],
   "source": [
    "for item in dict_codes.keys() :\n",
    "    if \"population\" in dict_codes[item] or \"Population\" in  dict_codes[item]:\n",
    "        print(item +\": \" + dict_codes[item])"
   ]
  },
  {
   "cell_type": "markdown",
   "metadata": {},
   "source": [
    "taking: HFA_1 Mid-Year Population"
   ]
  },
  {
   "cell_type": "code",
   "execution_count": 23,
   "metadata": {},
   "outputs": [
    {
     "name": "stdout",
     "output_type": "stream",
     "text": [
      "HFA_58: Reduction of life expectancy through death before 65 years\n",
      "HFA_59: Reduction of life expectancy through death before 65 years, males\n",
      "HFA_60: Reduction of life expectancy through death before 65 years, females\n",
      "HFA_67: Disability-adjusted life expectancy\n",
      "HFA_68: Disability-adjusted life expectancy, males\n",
      "HFA_69: Disability-adjusted life expectancy, females\n",
      "HFA_70: Estimated life expectancy at birth\n",
      "HFA_71: Estimated life expectancy at birth, males\n",
      "HFA_72: Estimated life expectancy at birth, females\n",
      "HFA_634: Healthy life expectancy (HALE ) at birth, female\n",
      "HFA_635: Healthy life expectancy (HALE) at birth, male\n",
      "HFA_636: Healthy life expectancy (HALE) at birth\n"
     ]
    }
   ],
   "source": [
    "for item in dict_codes.keys() :\n",
    "    if \"life expectancy\" in dict_codes[item] :\n",
    "        print(item +\": \" + dict_codes[item])"
   ]
  },
  {
   "cell_type": "markdown",
   "metadata": {},
   "source": [
    "taking: HFA_70 Estimated life expectancy at birth"
   ]
  },
  {
   "cell_type": "code",
   "execution_count": 24,
   "metadata": {},
   "outputs": [
    {
     "name": "stdout",
     "output_type": "stream",
     "text": [
      "HFA_35: Total government expenditure as % of GDP\n",
      "HFA_565: Total health expenditure as % of GDP, WHO estimates\n",
      "HFA_566: Total health expenditure as % of GDP\n",
      "HFA_567: Public-sector expenditure on health as % of GDP, WHO estimates\n",
      "HFA_568: Private-sector expenditure on health as % of GDP, WHO estimates\n",
      "HFA_569: Total health expenditure, PPP$ per capita, WHO estimates\n",
      "HFA_570: Total health expenditure, PPP$ per capita\n",
      "HFA_571: Public expenditure on health, PPP$ per capita, WHO estimates\n",
      "HFA_572: Public-sector health expenditure as % of total health expenditure, WHO estimates\n",
      "HFA_573: Public-sector health expenditure as % of total health expenditure\n",
      "HFA_574: Private-sector expenditure on health as % of total health expenditure, WHO estimates\n",
      "HFA_575: Total inpatient expenditure as % of total health expenditure\n",
      "HFA_577: Public inpatient expenditure as % of total inpatient expenditure\n",
      "HFA_578: Total pharmaceutical expenditure as % of total health expenditure\n",
      "HFA_580: Public pharmaceutical expenditure as % of total pharmaceutical expenditure\n",
      "HFA_581: Total capital investment expenditure on medical facilities as % of total health expenditure\n",
      "HFA_582: Salaries as % of total public health expenditure\n",
      "HFA_583: Public-sector expenditure on health as % of total government expenditure, WHO estimates\n",
      "HFA_584: Private households' out-of-pocket payments on health as % of total health expenditure\n",
      "HFA_585: Private households' out-of-pocket payments on health as % of private-sector health expenditure\n",
      "H2020_29: Out-of-pocket expenditures\n",
      "H2020_30: Health expenditures\n"
     ]
    }
   ],
   "source": [
    "for item in dict_codes.keys() :\n",
    "    if \"expenditure\" in dict_codes[item] or \"Expenditure\" in dict_codes[item] :\n",
    "        print(item +\": \" + dict_codes[item])"
   ]
  },
  {
   "cell_type": "markdown",
   "metadata": {},
   "source": [
    "taking: HFA_570: Total health expenditure, PPP$ per capita\n",
    "        \n",
    "HFA_566: Total health expenditure as % of GDP"
   ]
  },
  {
   "cell_type": "code",
   "execution_count": 25,
   "metadata": {},
   "outputs": [
    {
     "name": "stdout",
     "output_type": "stream",
     "text": [
      "HFA_22: Crude death rate per 1000 population\n",
      "HFA_23: Crude death rate per 1000 population, males\n",
      "HFA_24: Crude death rate per 1000 population, females\n",
      "HFA_58: Reduction of life expectancy through death before 65 years\n",
      "HFA_59: Reduction of life expectancy through death before 65 years, males\n",
      "HFA_60: Reduction of life expectancy through death before 65 years, females\n",
      "HFA_74: Infant deaths per 1000 live births\n",
      "HFA_75: Infant deaths per 1000 live births, males\n",
      "HFA_76: Infant deaths per 1000 live births, females\n",
      "HFA_77: Neonatal deaths per 1000 live births\n",
      "HFA_78: Early neonatal deaths per 1000 live births\n",
      "HFA_79: Number of early neonatal deaths\n",
      "HFA_80: Late neonatal deaths per 1000 live births\n",
      "HFA_81: Postneonatal deaths per 1000 live births\n",
      "HFA_82: Fetal deaths per 1000 births\n",
      "HFA_84: Perinatal deaths per 1000 births\n",
      "HFA_86: Number of early neonatal deaths with a birth weight of 1000 g or more\n",
      "HFA_88: Perinatal deaths national criteria per 1000 births\n",
      "HFA_89: Perinatal deaths 1000+g per 1000 births\n",
      "HFA_90: Maternal deaths per 100 000 live births, max of cod and clinical data\n",
      "HFA_91: Maternal deaths, abortion, per 100 000 live births\n",
      "HFA_92: Maternal deaths, haemorrhage, per 100 000 live births\n",
      "HFA_93: Maternal deaths, gestational (pregnancy-induced) hypertension and hyperemesis, per 100 000 live births\n",
      "HFA_94: Maternal deaths, puerperium, per 100 000 live births\n",
      "HFA_95: Maternal deaths per 100 000 live births according to clinical data\n",
      "HFA_96: Maternal deaths, cause of death data per 100 000 live births\n",
      "HFA_330: Number of deaths from malaria\n",
      "HFA_456: Deaths due to work-related accidents per 100 000\n",
      "HFA_457: Number of deaths due to work-related accidents\n",
      "HFA_544: Autopsy rate (%) for hospital deaths\n",
      "HFA_545: Autopsy rate (%) for all deaths\n",
      "HFA_640: Number of maternal deaths, clinical data\n",
      "HFAMDB_1: Deaths(#), Accidental drowning and submersion\n",
      "HFAMDB_17: Deaths(#), Accidental falls\n",
      "HFAMDB_33: Deaths(#), Accidental poisoning\n",
      "HFAMDB_34: Deaths(#), Accidental poisoning by alcohol\n",
      "HFAMDB_60: Deaths(#), Accidents\n",
      "HFAMDB_76: Deaths(#), AIDS/HIV (as recorded by routine mortality statistics system)\n",
      "HFAMDB_87: Deaths(#), Alcohol abuse (including alcoholic psychosis)\n",
      "HFAMDB_98: Deaths(#), All causes\n",
      "HFAMDB_114: Deaths(#), Alzheimer's disease and other degenerative diseases of nervous system\n",
      "HFAMDB_125: Deaths(#), Asthma\n",
      "HFAMDB_136: Deaths(#), Cerebrovascular diseases\n",
      "HFAMDB_147: Deaths(#), Certain conditions originating in the perinatal period\n",
      "HFAMDB_149: Deaths(#), Chronic liver disease and cirrhosis\n",
      "HFAMDB_160: Deaths(#), Chronic lower respiratory diseases\n",
      "HFAMDB_172: Deaths(#), females, Complications of pregnancy, childbirth and puerperium\n",
      "HFAMDB_173: Deaths(#), Congenital malformations and chromosomal abnormalities\n",
      "HFAMDB_189: Deaths(#), Diabetes mellitus\n",
      "HFAMDB_200: Deaths(#), Diseases of genitourinary system\n",
      "HFAMDB_211: Deaths(#), Diseases of musculoskeletal system and connective tissue\n",
      "HFAMDB_222: Deaths(#), Diseases of nervous system and sense organs\n",
      "HFAMDB_233: Deaths(#), Diseases of skin and subcutaneous tissue\n",
      "HFAMDB_244: Deaths(#), Diseases of the blood, blood forming organs and certain immunity disorders\n",
      "HFAMDB_260: Deaths(#), Diseases of the circulatory system\n",
      "HFAMDB_276: Deaths(#), Diseases of the digestive system\n",
      "HFAMDB_292: Deaths(#), Diseases of the respiratory system\n",
      "HFAMDB_308: Deaths(#), Drug dependence and toxicomania\n",
      "HFAMDB_319: Deaths(#), Endocrine, nutritional and metabolic diseases\n",
      "HFAMDB_335: Deaths(#), Events of undetermined intent\n",
      "HFAMDB_346: Deaths(#), Exposure to smoke, fire and flames\n",
      "HFAMDB_362: Deaths(#), External causes of injury and poisoning\n",
      "HFAMDB_378: Deaths(#), Homicide and assault\n",
      "HFAMDB_389: Deaths(#), Infectious and parasitic diseases\n",
      "HFAMDB_405: Deaths(#), Influenza\n",
      "HFAMDB_416: Deaths(#), Intestinal infectious diseases\n",
      "HFAMDB_427: Deaths(#), Ischaemic heart disease\n",
      "HFAMDB_438: Deaths(#), Malignant melanoma of skin\n",
      "HFAMDB_449: Deaths(#), Malignant neoplasm of bladder\n",
      "HFAMDB_460: Deaths(#), Malignant neoplasm of breast\n",
      "HFAMDB_471: Deaths(#), females, Malignant neoplasm of cervix uteri\n",
      "HFAMDB_482: Deaths(#), Malignant neoplasm of colon, rectum and anus\n",
      "HFAMDB_493: Deaths(#), Malignant neoplasm of esophagus\n",
      "HFAMDB_504: Deaths(#), Malignant neoplasm of larynx, trachea, bronchus and lung\n",
      "HFAMDB_515: Deaths(#), Malignant neoplasm of lip/oral cavity/pharynx\n",
      "HFAMDB_526: Deaths(#), Malignant neoplasm of liver and intrahepatic bile ducts\n",
      "HFAMDB_537: Deaths(#), Malignant neoplasm of lymphoid and haematopoietic tissue\n",
      "HFAMDB_553: Deaths(#), females, Malignant neoplasm of other parts of uterus\n",
      "HFAMDB_564: Deaths(#), females, Malignant neoplasm of ovary\n",
      "HFAMDB_575: Deaths(#), males, Malignant neoplasm of prostate\n",
      "HFAMDB_586: Deaths(#), Malignant neoplasm of pancreas\n",
      "HFAMDB_597: Deaths(#), Malignant neoplasm of stomach\n",
      "HFAMDB_608: Deaths(#), Malignant neoplasm of trachea, bronchus and lung\n",
      "HFAMDB_619: Deaths(#), Malignant neoplasms\n",
      "HFAMDB_635: Deaths(#), Meningitis\n",
      "HFAMDB_646: Deaths(#), Meningococcal infection\n",
      "HFAMDB_657: Deaths(#), Mental and behavioural disorders\n",
      "HFAMDB_668: Deaths(#), Motor vehicle traffic accidents\n",
      "HFAMDB_684: Deaths(#), Neoplasms\n",
      "HFAMDB_700: Deaths(#), Other acute respiratory infections\n",
      "HFAMDB_711: Deaths(#), Pneumonia\n",
      "HFAMDB_727: Deaths(#), Psychoactive substance use\n",
      "HFAMDB_738: Deaths(#), Pulmonary heart disease and other heart diseases\n",
      "HFAMDB_749: Deaths(#), Sudden and unattended death, cause unknown\n",
      "HFAMDB_750: CDR(0 year), Sudden and unattended death, cause unknown, per 100 000\n",
      "HFAMDB_751: SDR(0-14), Sudden and unattended death, cause unknown, per 100 000\n",
      "HFAMDB_752: SDR(0-64), Sudden and unattended death, cause unknown, per 100 000\n",
      "HFAMDB_753: SDR(15-29), Sudden and unattended death, cause unknown, per 100 000\n",
      "HFAMDB_754: SDR(25-64), Sudden and unattended death, cause unknown, per 100 000\n",
      "HFAMDB_755: SDR(30-44), Sudden and unattended death, cause unknown, per 100 000\n",
      "HFAMDB_756: SDR(45-59), Sudden and unattended death, cause unknown, per 100 000\n",
      "HFAMDB_757: SDR(60-74), Sudden and unattended death, cause unknown, per 100 000\n",
      "HFAMDB_758: SDR(65+), Sudden and unattended death, cause unknown, per 100 000\n",
      "HFAMDB_759: SDR(75+), Sudden and unattended death, cause unknown, per 100 000\n",
      "HFAMDB_760: SDR, Sudden and unattended death, cause unknown, per 100 000\n",
      "HFAMDB_761: Deaths(#), Suicide and intentional self-harm\n",
      "HFAMDB_772: Deaths(#), Symptoms, signs, abnormal findings, ill-defined causes\n",
      "HFAMDB_783: Deaths(#), Transport accidents\n",
      "HFAMDB_799: Deaths(#), Tuberculosis\n",
      "HFAMDB_810: Deaths(#), Ulcer of stomach and duodenum\n",
      "HFAMDB_821: Deaths(#), Viral hepatitis\n",
      "HFAMDB_851: Classification version used to code underlying cause of death (see Definitions)\n",
      "ENHIS_8: Standardized death rates (three-year average) for road traffic injuries in people aged 0–24 years\n",
      "ENHIS_11: Deaths from unintentional injuries by cause in the age group 0–19 years\n",
      "ENHIS_12: Standardized death rates for unintentional injuries in the age group 1–19 years - drowning and submersion\n",
      "ENHIS_13: Standardized death rates unintentional injuries in the age group 1–19 years - poisoning\n",
      "ENHIS_14: Standardized death rates unintentional injuries in the age group 1–19 years - accidental falls\n",
      "ENHIS_15: Standardized death rates unintentional injuries in the age group 1–19 years - exposure to smoke, fire and flames\n",
      "ENHIS_22: Post-neonatal infant death rates due to respiratory diseases\n",
      "CAHB_SURVEY_30: Legal obligation for perinatal death audits exists\n"
     ]
    }
   ],
   "source": [
    "for item in dict_codes.keys() :\n",
    "    if \"death\" in dict_codes[item] or \"Death\" in dict_codes[item] :\n",
    "        print(item +\": \" + dict_codes[item])"
   ]
  },
  {
   "cell_type": "markdown",
   "metadata": {},
   "source": [
    "taking HFA_22: Crude death rate per 1000 population"
   ]
  },
  {
   "cell_type": "code",
   "execution_count": 26,
   "metadata": {
    "scrolled": true
   },
   "outputs": [
    {
     "name": "stdout",
     "output_type": "stream",
     "text": [
      "HFA_476: Hospital beds per 100 000\n",
      "HFA_477: Total number of hospital beds\n",
      "HFA_478: Acute care hospital beds per 100 000\n",
      "HFA_479: Number of acute care hospital beds\n",
      "HFA_480: Acute care hospital beds, medical group of specialties\n",
      "HFA_481: Acute care hospital beds, medical group of specialties, per 100 000\n",
      "HFA_482: Acute care hospital beds, surgical group of specialties\n",
      "HFA_483: Acute care hospital beds, surgical group of specialties, per 100 000\n",
      "HFA_484: Acute care hospital beds, obstetric and gynaecological group of specialties\n",
      "HFA_485: Acute care hospital beds, obstetric and gynaecological group of specialties, per 100 000\n",
      "HFA_486: Acute care hospital beds, paediatric group of specialties\n",
      "HFA_487: Acute care hospital beds, paediatric group of specialties, per 100 000\n",
      "HFA_488: Psychiatric hospital beds per 100 000\n",
      "HFA_489: Number of psychiatric hospital beds\n",
      "HFA_490: Nursing and elderly home beds per 100 000\n",
      "HFA_491: Number of nursing and elderly home beds\n",
      "HFA_492: Private inpatient hospital beds as % of all beds\n",
      "HFA_493: Number of private inpatient hospital beds\n",
      "HLTHRES_39: Curative (acute) care beds, per 100 000\n",
      "HLTHRES_40: Curative (acute) care beds, total\n",
      "HLTHRES_87: Long–term care beds (excl. psychiatric beds), per 100 000\n",
      "HLTHRES_88: Long–term care beds (excl. psychiatric beds), total\n",
      "HLTHRES_146: Other hospital beds, per 100 000\n",
      "HLTHRES_147: Other hospital beds, total\n",
      "HLTHRES_227: Psychiatric care beds, per 100 000\n",
      "HLTHRES_228: Psychiatric care beds, total\n",
      "HLTHRES_245: Total hospital beds, per 100 000\n",
      "HLTHRES_246: Total hospital beds, total\n"
     ]
    }
   ],
   "source": [
    "for item in dict_codes.keys() :\n",
    "    if \"beds\" in dict_codes[item] :\n",
    "        print(item +\": \" + dict_codes[item])"
   ]
  },
  {
   "cell_type": "markdown",
   "metadata": {},
   "source": [
    "taking HFA_476: Hospital beds, per 100 000"
   ]
  },
  {
   "cell_type": "code",
   "execution_count": 27,
   "metadata": {
    "scrolled": true
   },
   "outputs": [
    {
     "name": "stdout",
     "output_type": "stream",
     "text": [
      "HFA_16: Live births per 1000 population\n",
      "HFA_17: Live births per 1000 population, males\n",
      "HFA_18: Live births per 1000 population, females\n",
      "HFA_19: Number of live births\n",
      "HFA_20: Number of live births, males\n",
      "HFA_21: Number of live births, females\n",
      "HFA_43: Life expectancy at birth (years)\n",
      "HFA_44: Life expectancy at birth (years), males\n",
      "HFA_45: Life expectancy at birth (years), females\n",
      "HFA_61: Probability of dying before age 5 per 1000 live births\n",
      "HFA_62: Probability of dying before age 5 per 1000 live births, males\n",
      "HFA_63: Probability of dying before age 5 per 1000 live births, females\n",
      "HFA_64: Estimated probability of dying before age 5, per 1000 live births (world health report)\n",
      "HFA_70: Estimated life expectancy at birth\n",
      "HFA_71: Estimated life expectancy at birth, males\n",
      "HFA_72: Estimated life expectancy at birth, females\n",
      "HFA_73: Estimated infant mortality per 1000 live births (world health report)\n",
      "HFA_74: Infant deaths per 1000 live births\n",
      "HFA_75: Infant deaths per 1000 live births, males\n",
      "HFA_76: Infant deaths per 1000 live births, females\n",
      "HFA_77: Neonatal deaths per 1000 live births\n",
      "HFA_78: Early neonatal deaths per 1000 live births\n",
      "HFA_80: Late neonatal deaths per 1000 live births\n",
      "HFA_81: Postneonatal deaths per 1000 live births\n",
      "HFA_82: Fetal deaths per 1000 births\n",
      "HFA_84: Perinatal deaths per 1000 births\n",
      "HFA_85: Number of deadborn fetuses with a birth weight of 1000 g or more\n",
      "HFA_86: Number of early neonatal deaths with a birth weight of 1000 g or more\n",
      "HFA_87: Number of live births with a birth weight of 1000 g or more\n",
      "HFA_88: Perinatal deaths national criteria per 1000 births\n",
      "HFA_89: Perinatal deaths 1000+g per 1000 births\n",
      "HFA_90: Maternal deaths per 100 000 live births, max of cod and clinical data\n",
      "HFA_91: Maternal deaths, abortion, per 100 000 live births\n",
      "HFA_92: Maternal deaths, haemorrhage, per 100 000 live births\n",
      "HFA_93: Maternal deaths, gestational (pregnancy-induced) hypertension and hyperemesis, per 100 000 live births\n",
      "HFA_94: Maternal deaths, puerperium, per 100 000 live births\n",
      "HFA_95: Maternal deaths per 100 000 live births according to clinical data\n",
      "HFA_96: Maternal deaths, cause of death data per 100 000 live births\n",
      "HFA_97: Estimated maternal mortality per 100 000 live births (WHO/UNICEFF/UNFPA estimates)\n",
      "HFA_586: Abortions per 1000 live births\n",
      "HFA_588: Abortions per 1000 live births, age under 20 years\n",
      "HFA_590: Abortions per 1000 live births, age 35+ years\n",
      "HFA_592: % of all live births to mothers aged under 20 years\n",
      "HFA_593: Number of all live births to mothers aged under 20 years\n",
      "HFA_594: % of all live births to mothers aged 35+ years\n",
      "HFA_595: Number of all live births, mothers aged 35+ years\n",
      "HFA_596: Caesarean sections per 1000 live births\n",
      "HFA_598: Proportion (%) of births attended by skilled health personnel\n",
      "HFA_600: % of live births weighing 2500 g or more\n",
      "HFA_601: Congenital anomalies per 100 000 live births\n",
      "HFA_602: Number of births with congenital anomalies\n",
      "HFA_603: Births with Down's syndrome per 100 000 live births\n",
      "HFA_604: Number of births with Down's syndrome\n",
      "HFA_634: Healthy life expectancy (HALE ) at birth, female\n",
      "HFA_635: Healthy life expectancy (HALE) at birth, male\n",
      "HFA_636: Healthy life expectancy (HALE) at birth\n",
      "HFAMDB_171: SDR, females, Complications of pregnancy, childbirth and puerperium, per 100 000\n",
      "HFAMDB_172: Deaths(#), females, Complications of pregnancy, childbirth and puerperium\n"
     ]
    }
   ],
   "source": [
    "for item in dict_codes.keys() :\n",
    "    if \"birth\" in dict_codes[item] :\n",
    "        print(item +\": \" + dict_codes[item])"
   ]
  },
  {
   "cell_type": "markdown",
   "metadata": {},
   "source": [
    "taking HFA_16: Live births per 1000 population"
   ]
  },
  {
   "cell_type": "markdown",
   "metadata": {},
   "source": [
    "Recording the codes for the info desired in a list"
   ]
  },
  {
   "cell_type": "code",
   "execution_count": 28,
   "metadata": {},
   "outputs": [],
   "source": [
    "codes_for_use = []\n",
    "codes_for_use.append(\"HFA_1\")\n",
    "                     #Mid-year population\n",
    "codes_for_use.append(\"HFA_70\")\n",
    "                     #Estimated life expectancy at birth\n",
    "codes_for_use.append(\"HFA_566\")\n",
    "                     #Total health expenditure as % of GDP\n",
    "codes_for_use.append(\"HFA_570\")\n",
    "                     #Total health expenditure, PPP$ per capita\n",
    "codes_for_use.append(\"HFA_476\")\n",
    "                     #Hospital beds, per 100 000\n",
    "codes_for_use.append(\"HFA_16\")\n",
    "                     #Live births per 1000 population\n",
    "codes_for_use.append(\"HFA_22\")\n",
    "                     #Crude death rate per 1000 population"
   ]
  },
  {
   "cell_type": "markdown",
   "metadata": {},
   "source": [
    "Function to fetch data of a specific code for all the specified countries"
   ]
  },
  {
   "cell_type": "code",
   "execution_count": 29,
   "metadata": {},
   "outputs": [],
   "source": [
    "def fetch_info(code):\n",
    "    country_filter = \"\"\n",
    "    # create the filter to fetch the data for the specific countries\n",
    "    for country_name in country_names :\n",
    "        country_filter += \"%s,\" % country_ids[country_name]\n",
    "        \n",
    "    # remove the last comma from the filter\n",
    "    country_filter = country_filter[:-1]\n",
    "\n",
    "    # create the endpoint URL\n",
    "    endpoint = \"/measures/%s?filter=COUNTRY:%s\" % (code, country_filter)\n",
    "    # fetch the current data\n",
    "    params = {\"details\": True}\n",
    "    data = fetch(endpoint)\n",
    "    # write it out to our raw dataset directory\n",
    "    fname = \"%s.json\" % (code)\n",
    "    out_path = dir_raw / fname\n",
    "    print(\"Writing data to %s\" % out_path)\n",
    "    fout = open(out_path, \"w\")\n",
    "    json.dump(data, fout, indent=4, sort_keys=True)\n",
    "    fout.close()"
   ]
  },
  {
   "cell_type": "code",
   "execution_count": 30,
   "metadata": {},
   "outputs": [
    {
     "name": "stdout",
     "output_type": "stream",
     "text": [
      "Fetching http://dw.euro.who.int/api/v3/measures/HFA_1?filter=COUNTRY:IRL,FRA,CZE,POL\n",
      "Writing data to raw\\HFA_1.json\n",
      "Fetching http://dw.euro.who.int/api/v3/measures/HFA_70?filter=COUNTRY:IRL,FRA,CZE,POL\n",
      "Writing data to raw\\HFA_70.json\n",
      "Fetching http://dw.euro.who.int/api/v3/measures/HFA_566?filter=COUNTRY:IRL,FRA,CZE,POL\n",
      "Writing data to raw\\HFA_566.json\n",
      "Fetching http://dw.euro.who.int/api/v3/measures/HFA_570?filter=COUNTRY:IRL,FRA,CZE,POL\n",
      "Writing data to raw\\HFA_570.json\n",
      "Fetching http://dw.euro.who.int/api/v3/measures/HFA_476?filter=COUNTRY:IRL,FRA,CZE,POL\n",
      "Writing data to raw\\HFA_476.json\n",
      "Fetching http://dw.euro.who.int/api/v3/measures/HFA_16?filter=COUNTRY:IRL,FRA,CZE,POL\n",
      "Writing data to raw\\HFA_16.json\n",
      "Fetching http://dw.euro.who.int/api/v3/measures/HFA_22?filter=COUNTRY:IRL,FRA,CZE,POL\n",
      "Writing data to raw\\HFA_22.json\n"
     ]
    }
   ],
   "source": [
    "for code in codes_for_use :\n",
    "    fetch_info(code)"
   ]
  },
  {
   "cell_type": "code",
   "execution_count": null,
   "metadata": {},
   "outputs": [],
   "source": []
  }
 ],
 "metadata": {
  "kernelspec": {
   "display_name": "Python 3",
   "language": "python",
   "name": "python3"
  },
  "language_info": {
   "codemirror_mode": {
    "name": "ipython",
    "version": 3
   },
   "file_extension": ".py",
   "mimetype": "text/x-python",
   "name": "python",
   "nbconvert_exporter": "python",
   "pygments_lexer": "ipython3",
   "version": "3.7.4"
  }
 },
 "nbformat": 4,
 "nbformat_minor": 2
}
